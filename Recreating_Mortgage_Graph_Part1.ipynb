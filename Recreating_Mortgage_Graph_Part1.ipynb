{
  "nbformat": 4,
  "nbformat_minor": 0,
  "metadata": {
    "colab": {
      "name": "Recreating Mortgage Graph Part1.ipynb",
      "provenance": [],
      "mount_file_id": "1UEKRiKz5kL-o0Wl0pjFRcG6bQx3PLzWA",
      "authorship_tag": "ABX9TyOXVAywhwAcwcUNZ6wKeNot",
      "include_colab_link": true
    },
    "kernelspec": {
      "name": "python3",
      "display_name": "Python 3"
    },
    "language_info": {
      "name": "python"
    }
  },
  "cells": [
    {
      "cell_type": "markdown",
      "metadata": {
        "id": "view-in-github",
        "colab_type": "text"
      },
      "source": [
        "<a href=\"https://colab.research.google.com/github/GENNYB7/RecreateGraph/blob/main/Recreating_Mortgage_Graph_Part1.ipynb\" target=\"_parent\"><img src=\"https://colab.research.google.com/assets/colab-badge.svg\" alt=\"Open In Colab\"/></a>"
      ]
    },
    {
      "cell_type": "code",
      "metadata": {
        "colab": {
          "base_uri": "https://localhost:8080/"
        },
        "id": "KKmKFOdedUXB",
        "outputId": "4668db8c-7a4c-49a2-a9b9-f81dcbb3c69b"
      },
      "source": [
        "from google.colab import drive\n",
        "drive.mount('/content/drive')"
      ],
      "execution_count": 10,
      "outputs": [
        {
          "output_type": "stream",
          "text": [
            "Drive already mounted at /content/drive; to attempt to forcibly remount, call drive.mount(\"/content/drive\", force_remount=True).\n"
          ],
          "name": "stdout"
        }
      ]
    },
    {
      "cell_type": "code",
      "metadata": {
        "id": "LCTByDTQf5Qt"
      },
      "source": [
        "import matplotlib.pyplot as plt\n",
        "import pandas as pd\n",
        "import numpy as np\n"
      ],
      "execution_count": 12,
      "outputs": []
    },
    {
      "cell_type": "code",
      "metadata": {
        "colab": {
          "base_uri": "https://localhost:8080/",
          "height": 195
        },
        "id": "ghf3vUYpgRcY",
        "outputId": "6094e4b4-1332-4f10-efb5-6afeeaee7e4a"
      },
      "source": [
        "mortgages = pd.read_csv('/content/drive/MyDrive/Coding_Dojo/PandasForDataManipulation/mortgages.csv')\n",
        "mortgages.head()"
      ],
      "execution_count": 13,
      "outputs": [
        {
          "output_type": "execute_result",
          "data": {
            "text/html": [
              "<div>\n",
              "<style scoped>\n",
              "    .dataframe tbody tr th:only-of-type {\n",
              "        vertical-align: middle;\n",
              "    }\n",
              "\n",
              "    .dataframe tbody tr th {\n",
              "        vertical-align: top;\n",
              "    }\n",
              "\n",
              "    .dataframe thead th {\n",
              "        text-align: right;\n",
              "    }\n",
              "</style>\n",
              "<table border=\"1\" class=\"dataframe\">\n",
              "  <thead>\n",
              "    <tr style=\"text-align: right;\">\n",
              "      <th></th>\n",
              "      <th>Month</th>\n",
              "      <th>Starting Balance</th>\n",
              "      <th>Repayment</th>\n",
              "      <th>Interest Paid</th>\n",
              "      <th>Principal Paid</th>\n",
              "      <th>New Balance</th>\n",
              "      <th>Mortgage Name</th>\n",
              "      <th>Interest Rate</th>\n",
              "    </tr>\n",
              "  </thead>\n",
              "  <tbody>\n",
              "    <tr>\n",
              "      <th>0</th>\n",
              "      <td>1</td>\n",
              "      <td>400000.00</td>\n",
              "      <td>1686.42</td>\n",
              "      <td>1000.00</td>\n",
              "      <td>686.42</td>\n",
              "      <td>399313.58</td>\n",
              "      <td>30 Year</td>\n",
              "      <td>0.03</td>\n",
              "    </tr>\n",
              "    <tr>\n",
              "      <th>1</th>\n",
              "      <td>2</td>\n",
              "      <td>399313.58</td>\n",
              "      <td>1686.42</td>\n",
              "      <td>998.28</td>\n",
              "      <td>688.14</td>\n",
              "      <td>398625.44</td>\n",
              "      <td>30 Year</td>\n",
              "      <td>0.03</td>\n",
              "    </tr>\n",
              "    <tr>\n",
              "      <th>2</th>\n",
              "      <td>3</td>\n",
              "      <td>398625.44</td>\n",
              "      <td>1686.42</td>\n",
              "      <td>996.56</td>\n",
              "      <td>689.86</td>\n",
              "      <td>397935.58</td>\n",
              "      <td>30 Year</td>\n",
              "      <td>0.03</td>\n",
              "    </tr>\n",
              "    <tr>\n",
              "      <th>3</th>\n",
              "      <td>4</td>\n",
              "      <td>397935.58</td>\n",
              "      <td>1686.42</td>\n",
              "      <td>994.83</td>\n",
              "      <td>691.59</td>\n",
              "      <td>397243.99</td>\n",
              "      <td>30 Year</td>\n",
              "      <td>0.03</td>\n",
              "    </tr>\n",
              "    <tr>\n",
              "      <th>4</th>\n",
              "      <td>5</td>\n",
              "      <td>397243.99</td>\n",
              "      <td>1686.42</td>\n",
              "      <td>993.10</td>\n",
              "      <td>693.32</td>\n",
              "      <td>396550.67</td>\n",
              "      <td>30 Year</td>\n",
              "      <td>0.03</td>\n",
              "    </tr>\n",
              "  </tbody>\n",
              "</table>\n",
              "</div>"
            ],
            "text/plain": [
              "   Month  Starting Balance  Repayment  ...  New Balance  Mortgage Name  Interest Rate\n",
              "0      1         400000.00    1686.42  ...    399313.58        30 Year           0.03\n",
              "1      2         399313.58    1686.42  ...    398625.44        30 Year           0.03\n",
              "2      3         398625.44    1686.42  ...    397935.58        30 Year           0.03\n",
              "3      4         397935.58    1686.42  ...    397243.99        30 Year           0.03\n",
              "4      5         397243.99    1686.42  ...    396550.67        30 Year           0.03\n",
              "\n",
              "[5 rows x 8 columns]"
            ]
          },
          "metadata": {
            "tags": []
          },
          "execution_count": 13
        }
      ]
    },
    {
      "cell_type": "code",
      "metadata": {
        "colab": {
          "base_uri": "https://localhost:8080/",
          "height": 284
        },
        "id": "o56mho-KpPWs",
        "outputId": "527d3b88-261b-4140-aada-646d1f6d5ee7"
      },
      "source": [
        "mortgages.describe()"
      ],
      "execution_count": 14,
      "outputs": [
        {
          "output_type": "execute_result",
          "data": {
            "text/html": [
              "<div>\n",
              "<style scoped>\n",
              "    .dataframe tbody tr th:only-of-type {\n",
              "        vertical-align: middle;\n",
              "    }\n",
              "\n",
              "    .dataframe tbody tr th {\n",
              "        vertical-align: top;\n",
              "    }\n",
              "\n",
              "    .dataframe thead th {\n",
              "        text-align: right;\n",
              "    }\n",
              "</style>\n",
              "<table border=\"1\" class=\"dataframe\">\n",
              "  <thead>\n",
              "    <tr style=\"text-align: right;\">\n",
              "      <th></th>\n",
              "      <th>Month</th>\n",
              "      <th>Starting Balance</th>\n",
              "      <th>Repayment</th>\n",
              "      <th>Interest Paid</th>\n",
              "      <th>Principal Paid</th>\n",
              "      <th>New Balance</th>\n",
              "      <th>Interest Rate</th>\n",
              "    </tr>\n",
              "  </thead>\n",
              "  <tbody>\n",
              "    <tr>\n",
              "      <th>count</th>\n",
              "      <td>1080.000000</td>\n",
              "      <td>1080.000000</td>\n",
              "      <td>1080.000000</td>\n",
              "      <td>1080.000000</td>\n",
              "      <td>1080.000000</td>\n",
              "      <td>1080.000000</td>\n",
              "      <td>1080.000000</td>\n",
              "    </tr>\n",
              "    <tr>\n",
              "      <th>mean</th>\n",
              "      <td>150.500000</td>\n",
              "      <td>233244.608139</td>\n",
              "      <td>2265.486667</td>\n",
              "      <td>783.991750</td>\n",
              "      <td>1481.494917</td>\n",
              "      <td>231763.113222</td>\n",
              "      <td>0.040000</td>\n",
              "    </tr>\n",
              "    <tr>\n",
              "      <th>std</th>\n",
              "      <td>99.544421</td>\n",
              "      <td>114887.600674</td>\n",
              "      <td>540.507327</td>\n",
              "      <td>450.838445</td>\n",
              "      <td>654.272215</td>\n",
              "      <td>115306.391990</td>\n",
              "      <td>0.010005</td>\n",
              "    </tr>\n",
              "    <tr>\n",
              "      <th>min</th>\n",
              "      <td>1.000000</td>\n",
              "      <td>1677.040000</td>\n",
              "      <td>1686.420000</td>\n",
              "      <td>4.190000</td>\n",
              "      <td>480.630000</td>\n",
              "      <td>-7.170000</td>\n",
              "      <td>0.030000</td>\n",
              "    </tr>\n",
              "    <tr>\n",
              "      <th>25%</th>\n",
              "      <td>68.000000</td>\n",
              "      <td>139742.220000</td>\n",
              "      <td>1686.420000</td>\n",
              "      <td>426.787500</td>\n",
              "      <td>914.170000</td>\n",
              "      <td>137885.062500</td>\n",
              "      <td>0.030000</td>\n",
              "    </tr>\n",
              "    <tr>\n",
              "      <th>50%</th>\n",
              "      <td>135.500000</td>\n",
              "      <td>249413.115000</td>\n",
              "      <td>2147.290000</td>\n",
              "      <td>761.580000</td>\n",
              "      <td>1392.465000</td>\n",
              "      <td>247956.530000</td>\n",
              "      <td>0.040000</td>\n",
              "    </tr>\n",
              "    <tr>\n",
              "      <th>75%</th>\n",
              "      <td>225.250000</td>\n",
              "      <td>335027.117500</td>\n",
              "      <td>2762.330000</td>\n",
              "      <td>1085.610000</td>\n",
              "      <td>1967.187500</td>\n",
              "      <td>333740.135000</td>\n",
              "      <td>0.050000</td>\n",
              "    </tr>\n",
              "    <tr>\n",
              "      <th>max</th>\n",
              "      <td>360.000000</td>\n",
              "      <td>400000.000000</td>\n",
              "      <td>3163.170000</td>\n",
              "      <td>1666.660000</td>\n",
              "      <td>3150.050000</td>\n",
              "      <td>399519.370000</td>\n",
              "      <td>0.050000</td>\n",
              "    </tr>\n",
              "  </tbody>\n",
              "</table>\n",
              "</div>"
            ],
            "text/plain": [
              "             Month  Starting Balance  ...    New Balance  Interest Rate\n",
              "count  1080.000000       1080.000000  ...    1080.000000    1080.000000\n",
              "mean    150.500000     233244.608139  ...  231763.113222       0.040000\n",
              "std      99.544421     114887.600674  ...  115306.391990       0.010005\n",
              "min       1.000000       1677.040000  ...      -7.170000       0.030000\n",
              "25%      68.000000     139742.220000  ...  137885.062500       0.030000\n",
              "50%     135.500000     249413.115000  ...  247956.530000       0.040000\n",
              "75%     225.250000     335027.117500  ...  333740.135000       0.050000\n",
              "max     360.000000     400000.000000  ...  399519.370000       0.050000\n",
              "\n",
              "[8 rows x 7 columns]"
            ]
          },
          "metadata": {
            "tags": []
          },
          "execution_count": 14
        }
      ]
    },
    {
      "cell_type": "code",
      "metadata": {
        "colab": {
          "base_uri": "https://localhost:8080/"
        },
        "id": "uYc_FwMTv2uL",
        "outputId": "fe88400c-6c06-4adc-efa1-af9048a7c82d"
      },
      "source": [
        "mortgages.info()"
      ],
      "execution_count": 15,
      "outputs": [
        {
          "output_type": "stream",
          "text": [
            "<class 'pandas.core.frame.DataFrame'>\n",
            "RangeIndex: 1080 entries, 0 to 1079\n",
            "Data columns (total 8 columns):\n",
            " #   Column            Non-Null Count  Dtype  \n",
            "---  ------            --------------  -----  \n",
            " 0   Month             1080 non-null   int64  \n",
            " 1   Starting Balance  1080 non-null   float64\n",
            " 2   Repayment         1080 non-null   float64\n",
            " 3   Interest Paid     1080 non-null   float64\n",
            " 4   Principal Paid    1080 non-null   float64\n",
            " 5   New Balance       1080 non-null   float64\n",
            " 6   Mortgage Name     1080 non-null   object \n",
            " 7   Interest Rate     1080 non-null   float64\n",
            "dtypes: float64(6), int64(1), object(1)\n",
            "memory usage: 67.6+ KB\n"
          ],
          "name": "stdout"
        }
      ]
    },
    {
      "cell_type": "code",
      "metadata": {
        "colab": {
          "base_uri": "https://localhost:8080/",
          "height": 402
        },
        "id": "4Do28bnjv97z",
        "outputId": "14254afe-e012-44a7-b027-3c7cd250ebc3"
      },
      "source": [
        "month_filter = mortgages['Month']>=1\n",
        "mortgages[month_filter]"
      ],
      "execution_count": 16,
      "outputs": [
        {
          "output_type": "execute_result",
          "data": {
            "text/html": [
              "<div>\n",
              "<style scoped>\n",
              "    .dataframe tbody tr th:only-of-type {\n",
              "        vertical-align: middle;\n",
              "    }\n",
              "\n",
              "    .dataframe tbody tr th {\n",
              "        vertical-align: top;\n",
              "    }\n",
              "\n",
              "    .dataframe thead th {\n",
              "        text-align: right;\n",
              "    }\n",
              "</style>\n",
              "<table border=\"1\" class=\"dataframe\">\n",
              "  <thead>\n",
              "    <tr style=\"text-align: right;\">\n",
              "      <th></th>\n",
              "      <th>Month</th>\n",
              "      <th>Starting Balance</th>\n",
              "      <th>Repayment</th>\n",
              "      <th>Interest Paid</th>\n",
              "      <th>Principal Paid</th>\n",
              "      <th>New Balance</th>\n",
              "      <th>Mortgage Name</th>\n",
              "      <th>Interest Rate</th>\n",
              "    </tr>\n",
              "  </thead>\n",
              "  <tbody>\n",
              "    <tr>\n",
              "      <th>0</th>\n",
              "      <td>1</td>\n",
              "      <td>400000.00</td>\n",
              "      <td>1686.42</td>\n",
              "      <td>1000.00</td>\n",
              "      <td>686.42</td>\n",
              "      <td>399313.58</td>\n",
              "      <td>30 Year</td>\n",
              "      <td>0.03</td>\n",
              "    </tr>\n",
              "    <tr>\n",
              "      <th>1</th>\n",
              "      <td>2</td>\n",
              "      <td>399313.58</td>\n",
              "      <td>1686.42</td>\n",
              "      <td>998.28</td>\n",
              "      <td>688.14</td>\n",
              "      <td>398625.44</td>\n",
              "      <td>30 Year</td>\n",
              "      <td>0.03</td>\n",
              "    </tr>\n",
              "    <tr>\n",
              "      <th>2</th>\n",
              "      <td>3</td>\n",
              "      <td>398625.44</td>\n",
              "      <td>1686.42</td>\n",
              "      <td>996.56</td>\n",
              "      <td>689.86</td>\n",
              "      <td>397935.58</td>\n",
              "      <td>30 Year</td>\n",
              "      <td>0.03</td>\n",
              "    </tr>\n",
              "    <tr>\n",
              "      <th>3</th>\n",
              "      <td>4</td>\n",
              "      <td>397935.58</td>\n",
              "      <td>1686.42</td>\n",
              "      <td>994.83</td>\n",
              "      <td>691.59</td>\n",
              "      <td>397243.99</td>\n",
              "      <td>30 Year</td>\n",
              "      <td>0.03</td>\n",
              "    </tr>\n",
              "    <tr>\n",
              "      <th>4</th>\n",
              "      <td>5</td>\n",
              "      <td>397243.99</td>\n",
              "      <td>1686.42</td>\n",
              "      <td>993.10</td>\n",
              "      <td>693.32</td>\n",
              "      <td>396550.67</td>\n",
              "      <td>30 Year</td>\n",
              "      <td>0.03</td>\n",
              "    </tr>\n",
              "    <tr>\n",
              "      <th>...</th>\n",
              "      <td>...</td>\n",
              "      <td>...</td>\n",
              "      <td>...</td>\n",
              "      <td>...</td>\n",
              "      <td>...</td>\n",
              "      <td>...</td>\n",
              "      <td>...</td>\n",
              "      <td>...</td>\n",
              "    </tr>\n",
              "    <tr>\n",
              "      <th>1075</th>\n",
              "      <td>176</td>\n",
              "      <td>15619.91</td>\n",
              "      <td>3163.17</td>\n",
              "      <td>65.08</td>\n",
              "      <td>3098.09</td>\n",
              "      <td>12521.82</td>\n",
              "      <td>15 Year</td>\n",
              "      <td>0.05</td>\n",
              "    </tr>\n",
              "    <tr>\n",
              "      <th>1076</th>\n",
              "      <td>177</td>\n",
              "      <td>12521.82</td>\n",
              "      <td>3163.17</td>\n",
              "      <td>52.17</td>\n",
              "      <td>3111.00</td>\n",
              "      <td>9410.82</td>\n",
              "      <td>15 Year</td>\n",
              "      <td>0.05</td>\n",
              "    </tr>\n",
              "    <tr>\n",
              "      <th>1077</th>\n",
              "      <td>178</td>\n",
              "      <td>9410.82</td>\n",
              "      <td>3163.17</td>\n",
              "      <td>39.21</td>\n",
              "      <td>3123.96</td>\n",
              "      <td>6286.86</td>\n",
              "      <td>15 Year</td>\n",
              "      <td>0.05</td>\n",
              "    </tr>\n",
              "    <tr>\n",
              "      <th>1078</th>\n",
              "      <td>179</td>\n",
              "      <td>6286.86</td>\n",
              "      <td>3163.17</td>\n",
              "      <td>26.19</td>\n",
              "      <td>3136.98</td>\n",
              "      <td>3149.88</td>\n",
              "      <td>15 Year</td>\n",
              "      <td>0.05</td>\n",
              "    </tr>\n",
              "    <tr>\n",
              "      <th>1079</th>\n",
              "      <td>180</td>\n",
              "      <td>3149.88</td>\n",
              "      <td>3163.17</td>\n",
              "      <td>13.12</td>\n",
              "      <td>3150.05</td>\n",
              "      <td>-0.17</td>\n",
              "      <td>15 Year</td>\n",
              "      <td>0.05</td>\n",
              "    </tr>\n",
              "  </tbody>\n",
              "</table>\n",
              "<p>1080 rows × 8 columns</p>\n",
              "</div>"
            ],
            "text/plain": [
              "      Month  Starting Balance  ...  Mortgage Name  Interest Rate\n",
              "0         1         400000.00  ...        30 Year           0.03\n",
              "1         2         399313.58  ...        30 Year           0.03\n",
              "2         3         398625.44  ...        30 Year           0.03\n",
              "3         4         397935.58  ...        30 Year           0.03\n",
              "4         5         397243.99  ...        30 Year           0.03\n",
              "...     ...               ...  ...            ...            ...\n",
              "1075    176          15619.91  ...        15 Year           0.05\n",
              "1076    177          12521.82  ...        15 Year           0.05\n",
              "1077    178           9410.82  ...        15 Year           0.05\n",
              "1078    179           6286.86  ...        15 Year           0.05\n",
              "1079    180           3149.88  ...        15 Year           0.05\n",
              "\n",
              "[1080 rows x 8 columns]"
            ]
          },
          "metadata": {
            "tags": []
          },
          "execution_count": 16
        }
      ]
    },
    {
      "cell_type": "code",
      "metadata": {
        "id": "9q7gwqQQW8NK"
      },
      "source": [
        "years_filter = mortgages['Mortgage Name']== '30 Year'\n",
        "years_filter"
      ],
      "execution_count": null,
      "outputs": []
    },
    {
      "cell_type": "code",
      "metadata": {
        "id": "lTxtcRaagxj9"
      },
      "source": [
        "mortgages = mortgages[years_filter]"
      ],
      "execution_count": 52,
      "outputs": []
    },
    {
      "cell_type": "code",
      "metadata": {
        "id": "tBv3a4p7J2gR"
      },
      "source": [
        "rate3 = mortgages['Interest Rate']==0.03\n",
        "rate5 = mortgages['Interest Rate']==0.05\n",
        "\n",
        "mortgages3 = mortgages[rate3]"
      ],
      "execution_count": 56,
      "outputs": []
    },
    {
      "cell_type": "code",
      "metadata": {
        "id": "6JzhJ5yfdIFD"
      },
      "source": [
        "mortgages3.info()"
      ],
      "execution_count": null,
      "outputs": []
    },
    {
      "cell_type": "code",
      "metadata": {
        "id": "HczmGu9VdzcQ"
      },
      "source": [
        "mortgages5 = mortgages[rate5]\n",
        "mortgages5.info()"
      ],
      "execution_count": null,
      "outputs": []
    },
    {
      "cell_type": "code",
      "metadata": {
        "id": "ULq-bXrwmzd4"
      },
      "source": [
        "mortgages3[]"
      ],
      "execution_count": null,
      "outputs": []
    },
    {
      "cell_type": "code",
      "metadata": {
        "colab": {
          "base_uri": "https://localhost:8080/",
          "height": 296
        },
        "id": "SwTXDZJAeKIc",
        "outputId": "970d1d55-8d6b-4503-e32d-61a61e5b2737"
      },
      "source": [
        "mortgages3.plot(x=\"Month\", y=\"Interest Paid\")\n"
      ],
      "execution_count": 71,
      "outputs": [
        {
          "output_type": "execute_result",
          "data": {
            "text/plain": [
              "<matplotlib.axes._subplots.AxesSubplot at 0x7f7c43037690>"
            ]
          },
          "metadata": {
            "tags": []
          },
          "execution_count": 71
        },
        {
          "output_type": "display_data",
          "data": {
            "image/png": "[encoded data removed]",
            "text/plain": [
              "<Figure size 432x288 with 1 Axes>"
            ]
          },
          "metadata": {
            "tags": [],
            "needs_background": "light"
          }
        }
      ]
    },
    {
      "cell_type": "code",
      "metadata": {
        "colab": {
          "base_uri": "https://localhost:8080/",
          "height": 279
        },
        "id": "Vy7bo3Dskpzp",
        "outputId": "6024658f-83a6-4e59-a659-ba9c22a2bf9c"
      },
      "source": [
        "mortgages5.plot(x=\"Month\", y=\"Starting Balance\");"
      ],
      "execution_count": 70,
      "outputs": [
        {
          "output_type": "display_data",
          "data": {
            "image/png": "[encoded data removed]",
            "text/plain": [
              "<Figure size 432x288 with 1 Axes>"
            ]
          },
          "metadata": {
            "tags": [],
            "needs_background": "light"
          }
        }
      ]
    },
    {
      "cell_type": "code",
      "metadata": {
        "colab": {
          "base_uri": "https://localhost:8080/"
        },
        "id": "g7pNP_suBM8y",
        "outputId": "a4a762c5-5058-4c59-c301-548ccd0b6b26"
      },
      "source": [
        "y=mortgages3[\"Interest Paid\"].cumsum()\n",
        "y"
      ],
      "execution_count": 87,
      "outputs": [
        {
          "output_type": "execute_result",
          "data": {
            "text/plain": [
              "0        1000.00\n",
              "1        1998.28\n",
              "2        2994.84\n",
              "3        3989.67\n",
              "4        4982.77\n",
              "         ...    \n",
              "355    207064.13\n",
              "356    207080.87\n",
              "357    207093.44\n",
              "358    207101.82\n",
              "359    207106.01\n",
              "Name: Interest Paid, Length: 360, dtype: float64"
            ]
          },
          "metadata": {
            "tags": []
          },
          "execution_count": 87
        }
      ]
    },
    {
      "cell_type": "code",
      "metadata": {
        "colab": {
          "base_uri": "https://localhost:8080/",
          "height": 265
        },
        "id": "QxHfTSSzDKpC",
        "outputId": "f4ae0c5f-cd5e-45b9-d591-248e32eff5cc"
      },
      "source": [
        "plt.plot(mortgages3[\"Month\"], y);"
      ],
      "execution_count": 89,
      "outputs": [
        {
          "output_type": "display_data",
          "data": {
            "image/png": "[encoded data removed]",
            "text/plain": [
              "<Figure size 432x288 with 1 Axes>"
            ]
          },
          "metadata": {
            "tags": [],
            "needs_background": "light"
          }
        }
      ]
    },
    {
      "cell_type": "code",
      "metadata": {
        "colab": {
          "base_uri": "https://localhost:8080/"
        },
        "id": "5DqinExYA_iE",
        "outputId": "fbdc56f9-1b11-4716-d4dc-0dc40a879eb8"
      },
      "source": [
        "y1=mortgages5['Interest Paid'].cumsum()\n",
        "y1"
      ],
      "execution_count": 85,
      "outputs": [
        {
          "output_type": "execute_result",
          "data": {
            "text/plain": [
              "360      1666.66\n",
              "361      3331.32\n",
              "362      4993.97\n",
              "363      6654.60\n",
              "364      8313.20\n",
              "         ...    \n",
              "715    372928.64\n",
              "716    372964.02\n",
              "717    372990.60\n",
              "718    373008.35\n",
              "719    373017.23\n",
              "Name: Interest Paid, Length: 360, dtype: float64"
            ]
          },
          "metadata": {
            "tags": []
          },
          "execution_count": 85
        }
      ]
    },
    {
      "cell_type": "code",
      "metadata": {
        "colab": {
          "base_uri": "https://localhost:8080/",
          "height": 265
        },
        "id": "mmghMNV_Cb6e",
        "outputId": "b75ad82f-092a-4ef5-8846-6da008ad1573"
      },
      "source": [
        "plt.plot(mortgages3[\"Month\"], y),\n",
        "plt.plot(mortgages5[\"Month\"], y1);"
      ],
      "execution_count": 91,
      "outputs": [
        {
          "output_type": "display_data",
          "data": {
            "image/png": "[encoded data removed]",
            "text/plain": [
              "<Figure size 432x288 with 1 Axes>"
            ]
          },
          "metadata": {
            "tags": [],
            "needs_background": "light"
          }
        }
      ]
    },
    {
      "cell_type": "code",
      "metadata": {
        "id": "XIbVqgqMCwxo"
      },
      "source": [
        ""
      ],
      "execution_count": null,
      "outputs": []
    }
  ]
}